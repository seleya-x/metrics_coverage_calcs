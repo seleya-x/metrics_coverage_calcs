{
 "cells": [
  {
   "cell_type": "code",
   "execution_count": 1,
   "id": "71a80690",
   "metadata": {},
   "outputs": [],
   "source": [
    "import os, sys, random, datetime, pickle, joblib, multiprocessing, gc, warnings, inspect, re, itertools\n",
    "\n",
    "import numpy as np\n",
    "import pandas as pd\n",
    "\n",
    "from itertools import compress\n",
    "from functools import reduce\n",
    "\n",
    "DATA_PATH = '../../data/'"
   ]
  },
  {
   "cell_type": "markdown",
   "id": "3205a106",
   "metadata": {},
   "source": [
    "### Load Data"
   ]
  },
  {
   "cell_type": "code",
   "execution_count": 2,
   "id": "f9b68b1c",
   "metadata": {},
   "outputs": [],
   "source": [
    "mastermapping = pd.read_excel(DATA_PATH + 'master_mapping_0918.xlsx')"
   ]
  },
  {
   "cell_type": "code",
   "execution_count": 3,
   "id": "dd61cfa6",
   "metadata": {},
   "outputs": [],
   "source": [
    "mastermapping_sics = pd.read_csv(DATA_PATH + 'master_map_sics_filled.csv')"
   ]
  },
  {
   "cell_type": "code",
   "execution_count": 4,
   "id": "1a358273",
   "metadata": {},
   "outputs": [
    {
     "name": "stderr",
     "output_type": "stream",
     "text": [
      "C:\\Users\\jinga\\anaconda3\\envs\\py37\\lib\\site-packages\\IPython\\core\\interactiveshell.py:3457: DtypeWarning: Columns (315,409,747,789,790,830,914,915,1047,1048,1057,1061,1065,1067,1069,1072,1076,1103,1176) have mixed types.Specify dtype option on import or set low_memory=False.\n",
      "  exec(code_obj, self.user_global_ns, self.user_ns)\n"
     ]
    }
   ],
   "source": [
    "master_esg_calcs = pd.read_csv(DATA_PATH + 'master_esg_calcs_1024.csv')\n",
    "master_esg_calcs = master_esg_calcs.rename(columns={'RIC_Primary':'RIC_primary'})"
   ]
  },
  {
   "cell_type": "code",
   "execution_count": 5,
   "id": "88cbb141",
   "metadata": {},
   "outputs": [
    {
     "name": "stderr",
     "output_type": "stream",
     "text": [
      "C:\\Users\\jinga\\anaconda3\\envs\\py37\\lib\\site-packages\\openpyxl\\worksheet\\_reader.py:312: UserWarning: Unknown extension is not supported and will be removed\n",
      "  warn(msg)\n"
     ]
    }
   ],
   "source": [
    "esg_metrics_detail = pd.read_excel(DATA_PATH + 'esg_metrics_detail.xlsx')"
   ]
  },
  {
   "cell_type": "code",
   "execution_count": 6,
   "id": "1ce29dfe",
   "metadata": {},
   "outputs": [],
   "source": [
    "sasb_mapdom = pd.read_excel(DATA_PATH + 'sasb_mapdom.xlsx')"
   ]
  },
  {
   "cell_type": "code",
   "execution_count": 7,
   "id": "633d4997",
   "metadata": {},
   "outputs": [],
   "source": [
    "portfolio = pd.read_excel( '../data/results_securities_checked/Securities_checked.xlsx')\n",
    "# portfolio = portfolio[['Name','RIC','RIC_primary','ISIN','our_isin','Weight']]\n",
    "# portfolio = portfolio.dropna(how='all',axis=0)"
   ]
  },
  {
   "cell_type": "code",
   "execution_count": 8,
   "id": "2c45fede",
   "metadata": {},
   "outputs": [],
   "source": [
    "unmatched_portfolio = pd.read_csv( '../data/results_securities_checked/unmatched_calcs.csv').drop(columns='Unnamed: 0')"
   ]
  },
  {
   "cell_type": "code",
   "execution_count": 9,
   "id": "4a4f9665",
   "metadata": {},
   "outputs": [
    {
     "data": {
      "text/plain": [
       "20"
      ]
     },
     "execution_count": 9,
     "metadata": {},
     "output_type": "execute_result"
    }
   ],
   "source": [
    "portfolio.RIC_primary.isna().sum()"
   ]
  },
  {
   "cell_type": "code",
   "execution_count": 10,
   "id": "55493099",
   "metadata": {},
   "outputs": [
    {
     "data": {
      "text/plain": [
       "157"
      ]
     },
     "execution_count": 10,
     "metadata": {},
     "output_type": "execute_result"
    }
   ],
   "source": [
    "portfolio.RIC_primary.notna().sum()"
   ]
  },
  {
   "cell_type": "code",
   "execution_count": 11,
   "id": "0f48d5c0",
   "metadata": {},
   "outputs": [
    {
     "data": {
      "text/plain": [
       "156"
      ]
     },
     "execution_count": 11,
     "metadata": {},
     "output_type": "execute_result"
    }
   ],
   "source": [
    "len(portfolio.loc[portfolio.RIC_primary.notna()].RIC_primary.unique().tolist())"
   ]
  },
  {
   "cell_type": "code",
   "execution_count": 12,
   "id": "4bd7bc41",
   "metadata": {},
   "outputs": [],
   "source": [
    "import collections\n",
    "a=pd.DataFrame.from_dict(dict(collections.Counter(portfolio.loc[portfolio.RIC_primary.notna()].RIC_primary.tolist())),orient='index').reset_index()"
   ]
  },
  {
   "cell_type": "code",
   "execution_count": 13,
   "id": "387453f0",
   "metadata": {},
   "outputs": [
    {
     "data": {
      "text/html": [
       "<div>\n",
       "<style scoped>\n",
       "    .dataframe tbody tr th:only-of-type {\n",
       "        vertical-align: middle;\n",
       "    }\n",
       "\n",
       "    .dataframe tbody tr th {\n",
       "        vertical-align: top;\n",
       "    }\n",
       "\n",
       "    .dataframe thead th {\n",
       "        text-align: right;\n",
       "    }\n",
       "</style>\n",
       "<table border=\"1\" class=\"dataframe\">\n",
       "  <thead>\n",
       "    <tr style=\"text-align: right;\">\n",
       "      <th></th>\n",
       "      <th>index</th>\n",
       "      <th>0</th>\n",
       "    </tr>\n",
       "  </thead>\n",
       "  <tbody>\n",
       "    <tr>\n",
       "      <th>81</th>\n",
       "      <td>TCOM.OQ</td>\n",
       "      <td>2</td>\n",
       "    </tr>\n",
       "  </tbody>\n",
       "</table>\n",
       "</div>"
      ],
      "text/plain": [
       "      index  0\n",
       "81  TCOM.OQ  2"
      ]
     },
     "execution_count": 13,
     "metadata": {},
     "output_type": "execute_result"
    }
   ],
   "source": [
    "a.loc[a[0]==2]"
   ]
  },
  {
   "cell_type": "markdown",
   "id": "67d6b710",
   "metadata": {},
   "source": [
    "### Data Info Mapping"
   ]
  },
  {
   "cell_type": "code",
   "execution_count": 14,
   "id": "0c1ec7bc",
   "metadata": {
    "scrolled": true
   },
   "outputs": [],
   "source": [
    "to_merge_industry = mastermapping_sics[['RIC_primary','sics_industry_code']].drop_duplicates()\n",
    "\n",
    "portfolio = portfolio.merge(to_merge_industry,on='RIC_primary',how='left')\n",
    "\n",
    "portfolio = portfolio.rename(columns={'sics_industry_code':'industry'})"
   ]
  },
  {
   "cell_type": "markdown",
   "id": "7cddb557",
   "metadata": {},
   "source": [
    "### task 2(b)"
   ]
  },
  {
   "cell_type": "markdown",
   "id": "fc868f44",
   "metadata": {},
   "source": [
    "#### do we have at least 10 metrics for that company? Master_esg_calcs.csv, only look at ESG metrics, exclude XY Change, /."
   ]
  },
  {
   "cell_type": "markdown",
   "id": "26366c76",
   "metadata": {},
   "source": [
    "#### 只看category_db.isin(['Environment','Social','Governance’], 然后排除名字里带 ‘Y Change’, ‘ / ’ 这样的就可以"
   ]
  },
  {
   "cell_type": "code",
   "execution_count": 15,
   "id": "42ecea90",
   "metadata": {
    "scrolled": true
   },
   "outputs": [],
   "source": [
    "#### get E, S, G metrics from category_DB\n",
    "names_ESG_2b = esg_metrics_detail.loc[esg_metrics_detail['category_db'].isin(['Environmental','Social','Governance']),'calcs_name'].tolist()\n",
    "\n",
    "#### remove Y Change names\n",
    "names_ESG_2b = [x for x in names_ESG_2b if 'Y Change' not in x]\n",
    "\n",
    "#### remove / names\n",
    "names_ESG_2b = [x for x in names_ESG_2b if '/' not in x]"
   ]
  },
  {
   "cell_type": "code",
   "execution_count": 16,
   "id": "62bec8d7",
   "metadata": {},
   "outputs": [
    {
     "data": {
      "text/plain": [
       "525"
      ]
     },
     "execution_count": 16,
     "metadata": {},
     "output_type": "execute_result"
    }
   ],
   "source": [
    "len(names_ESG_2b)"
   ]
  },
  {
   "cell_type": "markdown",
   "id": "27bf6411",
   "metadata": {},
   "source": [
    "#### select the portfolio's RIC_primary among master_esg_calcs"
   ]
  },
  {
   "cell_type": "code",
   "execution_count": 17,
   "id": "f8889ed8",
   "metadata": {},
   "outputs": [],
   "source": [
    "master_esg_calcs_2b = master_esg_calcs[['RIC_primary','FY'] + names_ESG_2b]\n",
    "\n",
    "master_esg_calcs_2b = master_esg_calcs_2b.loc[master_esg_calcs_2b['RIC_primary'].isin(portfolio['RIC_primary'])]\n",
    "\n",
    "master_esg_calcs_2b = master_esg_calcs_2b.reset_index(drop=True)"
   ]
  },
  {
   "cell_type": "code",
   "execution_count": 18,
   "id": "cb96a982",
   "metadata": {},
   "outputs": [],
   "source": [
    "coverage_2b = master_esg_calcs_2b.groupby(['RIC_primary','FY']).apply(lambda x: x[names_ESG_2b].notna().sum().sum())\n",
    "coverage_2b = coverage_2b.reset_index().rename(columns={0:'valid_data_points_num'})"
   ]
  },
  {
   "cell_type": "code",
   "execution_count": 19,
   "id": "3027e22e",
   "metadata": {},
   "outputs": [],
   "source": [
    "coverage_2b['valid_data_points_coverage'] = coverage_2b['valid_data_points_num']/len(names_ESG_2b)"
   ]
  },
  {
   "cell_type": "code",
   "execution_count": 20,
   "id": "deda07b2",
   "metadata": {},
   "outputs": [],
   "source": [
    "amendment_2b = unmatched_portfolio[['RIC','FY'] + names_ESG_2b].groupby(['RIC','FY']).apply(lambda x: x[names_ESG_2b].notna().sum().sum()).reset_index().rename(columns={0:'valid_data_points_num'})\n",
    "amendment_2b['valid_data_points_coverage'] = amendment_2b['valid_data_points_num']/len(names_ESG_2b)"
   ]
  },
  {
   "cell_type": "code",
   "execution_count": null,
   "id": "612bd7cf",
   "metadata": {},
   "outputs": [],
   "source": []
  },
  {
   "cell_type": "markdown",
   "id": "7367d4c6",
   "metadata": {},
   "source": [
    "### task 2(c)"
   ]
  },
  {
   "cell_type": "markdown",
   "id": "e9dfad4d",
   "metadata": {},
   "source": [
    "#### 要看每个公司对应的industry, 在sasb_mapdom里面有多少个material的trcode, 然后你通过esg_metrics_detail里 trcode和 index_metric=1的可以找到在calc_name. 这些对上的, 是当前这家公司的所有的material的metrics, 然后你再数这些metrics里面, 多少非空"
   ]
  },
  {
   "cell_type": "markdown",
   "id": "8bf4583b",
   "metadata": {},
   "source": [
    "#### 做2c的时候不需要category_db.isin(['Environment','Social','Governance’] 还有  ‘Y Change’ 这个筛选哈, 通过material的mapping 本身就排除了"
   ]
  },
  {
   "cell_type": "markdown",
   "id": "127e6fe0",
   "metadata": {},
   "source": [
    "#### Step 1 ：industry - trcode mapping data"
   ]
  },
  {
   "cell_type": "code",
   "execution_count": 21,
   "id": "e67b73d0",
   "metadata": {},
   "outputs": [
    {
     "data": {
      "text/html": [
       "<div>\n",
       "<style scoped>\n",
       "    .dataframe tbody tr th:only-of-type {\n",
       "        vertical-align: middle;\n",
       "    }\n",
       "\n",
       "    .dataframe tbody tr th {\n",
       "        vertical-align: top;\n",
       "    }\n",
       "\n",
       "    .dataframe thead th {\n",
       "        text-align: right;\n",
       "    }\n",
       "</style>\n",
       "<table border=\"1\" class=\"dataframe\">\n",
       "  <thead>\n",
       "    <tr style=\"text-align: right;\">\n",
       "      <th></th>\n",
       "      <th>industry</th>\n",
       "      <th>trcode</th>\n",
       "    </tr>\n",
       "  </thead>\n",
       "  <tbody>\n",
       "    <tr>\n",
       "      <th>0</th>\n",
       "      <td>RR-PP</td>\n",
       "      <td>TR.AnalyticRenewEnergyUse</td>\n",
       "    </tr>\n",
       "    <tr>\n",
       "      <th>1</th>\n",
       "      <td>RR-ST</td>\n",
       "      <td>TR.EcoDesignProducts</td>\n",
       "    </tr>\n",
       "    <tr>\n",
       "      <th>2</th>\n",
       "      <td>CG-AM</td>\n",
       "      <td>TR.PercentageGreenProducts</td>\n",
       "    </tr>\n",
       "    <tr>\n",
       "      <th>3</th>\n",
       "      <td>CG-BF</td>\n",
       "      <td>TR.PercentageGreenProducts</td>\n",
       "    </tr>\n",
       "    <tr>\n",
       "      <th>4</th>\n",
       "      <td>CG-EC</td>\n",
       "      <td>TR.AsianMinoritiesEmployeesPercentage</td>\n",
       "    </tr>\n",
       "    <tr>\n",
       "      <th>...</th>\n",
       "      <td>...</td>\n",
       "      <td>...</td>\n",
       "    </tr>\n",
       "    <tr>\n",
       "      <th>1138</th>\n",
       "      <td>TR-AP</td>\n",
       "      <td>TR.WasteTotal</td>\n",
       "    </tr>\n",
       "    <tr>\n",
       "      <th>1139</th>\n",
       "      <td>TR-RA</td>\n",
       "      <td>TR.EmployeeFatalities</td>\n",
       "    </tr>\n",
       "    <tr>\n",
       "      <th>1140</th>\n",
       "      <td>TR-RA</td>\n",
       "      <td>TR.ContractorFatalities</td>\n",
       "    </tr>\n",
       "    <tr>\n",
       "      <th>1141</th>\n",
       "      <td>TR-RO</td>\n",
       "      <td>TR.EmployeeFatalities</td>\n",
       "    </tr>\n",
       "    <tr>\n",
       "      <th>1142</th>\n",
       "      <td>TR-RO</td>\n",
       "      <td>TR.ContractorFatalities</td>\n",
       "    </tr>\n",
       "  </tbody>\n",
       "</table>\n",
       "<p>780 rows × 2 columns</p>\n",
       "</div>"
      ],
      "text/plain": [
       "     industry                                 trcode\n",
       "0       RR-PP              TR.AnalyticRenewEnergyUse\n",
       "1       RR-ST                   TR.EcoDesignProducts\n",
       "2       CG-AM             TR.PercentageGreenProducts\n",
       "3       CG-BF             TR.PercentageGreenProducts\n",
       "4       CG-EC  TR.AsianMinoritiesEmployeesPercentage\n",
       "...       ...                                    ...\n",
       "1138    TR-AP                          TR.WasteTotal\n",
       "1139    TR-RA                  TR.EmployeeFatalities\n",
       "1140    TR-RA                TR.ContractorFatalities\n",
       "1141    TR-RO                  TR.EmployeeFatalities\n",
       "1142    TR-RO                TR.ContractorFatalities\n",
       "\n",
       "[780 rows x 2 columns]"
      ]
     },
     "execution_count": 21,
     "metadata": {},
     "output_type": "execute_result"
    }
   ],
   "source": [
    "to_merge_trcode = sasb_mapdom[['industry','trcode']].dropna().drop_duplicates()\n",
    "\n",
    "to_merge_trcode"
   ]
  },
  {
   "cell_type": "markdown",
   "id": "a67508aa",
   "metadata": {},
   "source": [
    "#### Step 2: 根据trcode，将index_metric merge至上一步结果"
   ]
  },
  {
   "cell_type": "code",
   "execution_count": 22,
   "id": "5d19b6a3",
   "metadata": {
    "scrolled": true
   },
   "outputs": [
    {
     "data": {
      "text/html": [
       "<div>\n",
       "<style scoped>\n",
       "    .dataframe tbody tr th:only-of-type {\n",
       "        vertical-align: middle;\n",
       "    }\n",
       "\n",
       "    .dataframe tbody tr th {\n",
       "        vertical-align: top;\n",
       "    }\n",
       "\n",
       "    .dataframe thead th {\n",
       "        text-align: right;\n",
       "    }\n",
       "</style>\n",
       "<table border=\"1\" class=\"dataframe\">\n",
       "  <thead>\n",
       "    <tr style=\"text-align: right;\">\n",
       "      <th></th>\n",
       "      <th>trcode</th>\n",
       "      <th>index_metric</th>\n",
       "      <th>calcs_name</th>\n",
       "      <th>trcode_lower</th>\n",
       "    </tr>\n",
       "  </thead>\n",
       "  <tbody>\n",
       "    <tr>\n",
       "      <th>0</th>\n",
       "      <td>TR.CO2EmissionTotal</td>\n",
       "      <td>1.0</td>\n",
       "      <td>Total CO2 Emissions</td>\n",
       "      <td>tr.co2emissiontotal</td>\n",
       "    </tr>\n",
       "    <tr>\n",
       "      <th>4</th>\n",
       "      <td>TR.AnalyticCO2</td>\n",
       "      <td>1.0</td>\n",
       "      <td>Total CO2 Emissions / Revenue</td>\n",
       "      <td>tr.analyticco2</td>\n",
       "    </tr>\n",
       "    <tr>\n",
       "      <th>20</th>\n",
       "      <td>TR.CO2DirectScope1</td>\n",
       "      <td>1.0</td>\n",
       "      <td>CO2 Emissions, Scope 1 / Revenue</td>\n",
       "      <td>tr.co2directscope1</td>\n",
       "    </tr>\n",
       "    <tr>\n",
       "      <th>24</th>\n",
       "      <td>TR.CO2IndirectScope2</td>\n",
       "      <td>1.0</td>\n",
       "      <td>CO2 Emissions, Scope 2 / Revenue</td>\n",
       "      <td>tr.co2indirectscope2</td>\n",
       "    </tr>\n",
       "    <tr>\n",
       "      <th>28</th>\n",
       "      <td>TR.CO2IndirectScope3</td>\n",
       "      <td>1.0</td>\n",
       "      <td>CO2 Emissions, Scope 3 / Revenue</td>\n",
       "      <td>tr.co2indirectscope3</td>\n",
       "    </tr>\n",
       "    <tr>\n",
       "      <th>...</th>\n",
       "      <td>...</td>\n",
       "      <td>...</td>\n",
       "      <td>...</td>\n",
       "      <td>...</td>\n",
       "    </tr>\n",
       "    <tr>\n",
       "      <th>905</th>\n",
       "      <td>TR.BlackorAfricanAmericanMinoritiesManagersPer...</td>\n",
       "      <td>1.0</td>\n",
       "      <td>Black or African American - Minorities Manager...</td>\n",
       "      <td>tr.blackorafricanamericanminoritiesmanagersper...</td>\n",
       "    </tr>\n",
       "    <tr>\n",
       "      <th>906</th>\n",
       "      <td>TR.HispanicorLatinoMinoritiesManagersPercentage</td>\n",
       "      <td>1.0</td>\n",
       "      <td>Hispanic or Latino - Minorities Managers Perce...</td>\n",
       "      <td>tr.hispanicorlatinominoritiesmanagerspercentage</td>\n",
       "    </tr>\n",
       "    <tr>\n",
       "      <th>907</th>\n",
       "      <td>TR.WhiteMinoritiesManagersPercentage</td>\n",
       "      <td>1.0</td>\n",
       "      <td>White - Minorities Managers Percentage</td>\n",
       "      <td>tr.whiteminoritiesmanagerspercentage</td>\n",
       "    </tr>\n",
       "    <tr>\n",
       "      <th>908</th>\n",
       "      <td>TR.EnvProducts</td>\n",
       "      <td>1.0</td>\n",
       "      <td>Environmental Products</td>\n",
       "      <td>tr.envproducts</td>\n",
       "    </tr>\n",
       "    <tr>\n",
       "      <th>909</th>\n",
       "      <td>TR.PercentageGreenProducts</td>\n",
       "      <td>1.0</td>\n",
       "      <td>Percentage of Green Products</td>\n",
       "      <td>tr.percentagegreenproducts</td>\n",
       "    </tr>\n",
       "  </tbody>\n",
       "</table>\n",
       "<p>117 rows × 4 columns</p>\n",
       "</div>"
      ],
      "text/plain": [
       "                                                trcode  index_metric  \\\n",
       "0                                  TR.CO2EmissionTotal           1.0   \n",
       "4                                       TR.AnalyticCO2           1.0   \n",
       "20                                  TR.CO2DirectScope1           1.0   \n",
       "24                                TR.CO2IndirectScope2           1.0   \n",
       "28                                TR.CO2IndirectScope3           1.0   \n",
       "..                                                 ...           ...   \n",
       "905  TR.BlackorAfricanAmericanMinoritiesManagersPer...           1.0   \n",
       "906    TR.HispanicorLatinoMinoritiesManagersPercentage           1.0   \n",
       "907               TR.WhiteMinoritiesManagersPercentage           1.0   \n",
       "908                                     TR.EnvProducts           1.0   \n",
       "909                         TR.PercentageGreenProducts           1.0   \n",
       "\n",
       "                                            calcs_name  \\\n",
       "0                                  Total CO2 Emissions   \n",
       "4                        Total CO2 Emissions / Revenue   \n",
       "20                    CO2 Emissions, Scope 1 / Revenue   \n",
       "24                    CO2 Emissions, Scope 2 / Revenue   \n",
       "28                    CO2 Emissions, Scope 3 / Revenue   \n",
       "..                                                 ...   \n",
       "905  Black or African American - Minorities Manager...   \n",
       "906  Hispanic or Latino - Minorities Managers Perce...   \n",
       "907             White - Minorities Managers Percentage   \n",
       "908                             Environmental Products   \n",
       "909                       Percentage of Green Products   \n",
       "\n",
       "                                          trcode_lower  \n",
       "0                                  tr.co2emissiontotal  \n",
       "4                                       tr.analyticco2  \n",
       "20                                  tr.co2directscope1  \n",
       "24                                tr.co2indirectscope2  \n",
       "28                                tr.co2indirectscope3  \n",
       "..                                                 ...  \n",
       "905  tr.blackorafricanamericanminoritiesmanagersper...  \n",
       "906    tr.hispanicorlatinominoritiesmanagerspercentage  \n",
       "907               tr.whiteminoritiesmanagerspercentage  \n",
       "908                                     tr.envproducts  \n",
       "909                         tr.percentagegreenproducts  \n",
       "\n",
       "[117 rows x 4 columns]"
      ]
     },
     "execution_count": 22,
     "metadata": {},
     "output_type": "execute_result"
    }
   ],
   "source": [
    "esg_metrics_detail_2c = esg_metrics_detail[['trcode','index_metric','calcs_name']].dropna()\n",
    "esg_metrics_detail_2c['trcode_lower'] = [x.split('(')[0].lower() for x in esg_metrics_detail_2c['trcode']]\n",
    "esg_metrics_detail_2c"
   ]
  },
  {
   "cell_type": "code",
   "execution_count": 23,
   "id": "d1f6e524",
   "metadata": {
    "scrolled": true
   },
   "outputs": [
    {
     "data": {
      "text/html": [
       "<div>\n",
       "<style scoped>\n",
       "    .dataframe tbody tr th:only-of-type {\n",
       "        vertical-align: middle;\n",
       "    }\n",
       "\n",
       "    .dataframe tbody tr th {\n",
       "        vertical-align: top;\n",
       "    }\n",
       "\n",
       "    .dataframe thead th {\n",
       "        text-align: right;\n",
       "    }\n",
       "</style>\n",
       "<table border=\"1\" class=\"dataframe\">\n",
       "  <thead>\n",
       "    <tr style=\"text-align: right;\">\n",
       "      <th></th>\n",
       "      <th>industry</th>\n",
       "      <th>trcode</th>\n",
       "      <th>trcode_lower</th>\n",
       "    </tr>\n",
       "  </thead>\n",
       "  <tbody>\n",
       "    <tr>\n",
       "      <th>0</th>\n",
       "      <td>RR-PP</td>\n",
       "      <td>TR.AnalyticRenewEnergyUse</td>\n",
       "      <td>tr.analyticrenewenergyuse</td>\n",
       "    </tr>\n",
       "    <tr>\n",
       "      <th>1</th>\n",
       "      <td>RR-ST</td>\n",
       "      <td>TR.EcoDesignProducts</td>\n",
       "      <td>tr.ecodesignproducts</td>\n",
       "    </tr>\n",
       "    <tr>\n",
       "      <th>2</th>\n",
       "      <td>CG-AM</td>\n",
       "      <td>TR.PercentageGreenProducts</td>\n",
       "      <td>tr.percentagegreenproducts</td>\n",
       "    </tr>\n",
       "    <tr>\n",
       "      <th>3</th>\n",
       "      <td>CG-BF</td>\n",
       "      <td>TR.PercentageGreenProducts</td>\n",
       "      <td>tr.percentagegreenproducts</td>\n",
       "    </tr>\n",
       "    <tr>\n",
       "      <th>4</th>\n",
       "      <td>CG-EC</td>\n",
       "      <td>TR.AsianMinoritiesEmployeesPercentage</td>\n",
       "      <td>tr.asianminoritiesemployeespercentage</td>\n",
       "    </tr>\n",
       "    <tr>\n",
       "      <th>...</th>\n",
       "      <td>...</td>\n",
       "      <td>...</td>\n",
       "      <td>...</td>\n",
       "    </tr>\n",
       "    <tr>\n",
       "      <th>1138</th>\n",
       "      <td>TR-AP</td>\n",
       "      <td>TR.WasteTotal</td>\n",
       "      <td>tr.wastetotal</td>\n",
       "    </tr>\n",
       "    <tr>\n",
       "      <th>1139</th>\n",
       "      <td>TR-RA</td>\n",
       "      <td>TR.EmployeeFatalities</td>\n",
       "      <td>tr.employeefatalities</td>\n",
       "    </tr>\n",
       "    <tr>\n",
       "      <th>1140</th>\n",
       "      <td>TR-RA</td>\n",
       "      <td>TR.ContractorFatalities</td>\n",
       "      <td>tr.contractorfatalities</td>\n",
       "    </tr>\n",
       "    <tr>\n",
       "      <th>1141</th>\n",
       "      <td>TR-RO</td>\n",
       "      <td>TR.EmployeeFatalities</td>\n",
       "      <td>tr.employeefatalities</td>\n",
       "    </tr>\n",
       "    <tr>\n",
       "      <th>1142</th>\n",
       "      <td>TR-RO</td>\n",
       "      <td>TR.ContractorFatalities</td>\n",
       "      <td>tr.contractorfatalities</td>\n",
       "    </tr>\n",
       "  </tbody>\n",
       "</table>\n",
       "<p>780 rows × 3 columns</p>\n",
       "</div>"
      ],
      "text/plain": [
       "     industry                                 trcode  \\\n",
       "0       RR-PP              TR.AnalyticRenewEnergyUse   \n",
       "1       RR-ST                   TR.EcoDesignProducts   \n",
       "2       CG-AM             TR.PercentageGreenProducts   \n",
       "3       CG-BF             TR.PercentageGreenProducts   \n",
       "4       CG-EC  TR.AsianMinoritiesEmployeesPercentage   \n",
       "...       ...                                    ...   \n",
       "1138    TR-AP                          TR.WasteTotal   \n",
       "1139    TR-RA                  TR.EmployeeFatalities   \n",
       "1140    TR-RA                TR.ContractorFatalities   \n",
       "1141    TR-RO                  TR.EmployeeFatalities   \n",
       "1142    TR-RO                TR.ContractorFatalities   \n",
       "\n",
       "                               trcode_lower  \n",
       "0                 tr.analyticrenewenergyuse  \n",
       "1                      tr.ecodesignproducts  \n",
       "2                tr.percentagegreenproducts  \n",
       "3                tr.percentagegreenproducts  \n",
       "4     tr.asianminoritiesemployeespercentage  \n",
       "...                                     ...  \n",
       "1138                          tr.wastetotal  \n",
       "1139                  tr.employeefatalities  \n",
       "1140                tr.contractorfatalities  \n",
       "1141                  tr.employeefatalities  \n",
       "1142                tr.contractorfatalities  \n",
       "\n",
       "[780 rows x 3 columns]"
      ]
     },
     "execution_count": 23,
     "metadata": {},
     "output_type": "execute_result"
    }
   ],
   "source": [
    "to_merge_trcode['trcode_lower'] = [x.lower() for x in to_merge_trcode['trcode']]\n",
    "to_merge_trcode"
   ]
  },
  {
   "cell_type": "code",
   "execution_count": 24,
   "id": "37bf688b",
   "metadata": {
    "scrolled": true
   },
   "outputs": [
    {
     "data": {
      "text/html": [
       "<div>\n",
       "<style scoped>\n",
       "    .dataframe tbody tr th:only-of-type {\n",
       "        vertical-align: middle;\n",
       "    }\n",
       "\n",
       "    .dataframe tbody tr th {\n",
       "        vertical-align: top;\n",
       "    }\n",
       "\n",
       "    .dataframe thead th {\n",
       "        text-align: right;\n",
       "    }\n",
       "</style>\n",
       "<table border=\"1\" class=\"dataframe\">\n",
       "  <thead>\n",
       "    <tr style=\"text-align: right;\">\n",
       "      <th></th>\n",
       "      <th>industry</th>\n",
       "      <th>trcode</th>\n",
       "      <th>trcode_lower</th>\n",
       "      <th>index_metric</th>\n",
       "      <th>calcs_name</th>\n",
       "    </tr>\n",
       "  </thead>\n",
       "  <tbody>\n",
       "    <tr>\n",
       "      <th>0</th>\n",
       "      <td>RR-PP</td>\n",
       "      <td>TR.AnalyticRenewEnergyUse</td>\n",
       "      <td>tr.analyticrenewenergyuse</td>\n",
       "      <td>1.0</td>\n",
       "      <td>Renewable Energy / Total Energy</td>\n",
       "    </tr>\n",
       "    <tr>\n",
       "      <th>1</th>\n",
       "      <td>RR-ST</td>\n",
       "      <td>TR.EcoDesignProducts</td>\n",
       "      <td>tr.ecodesignproducts</td>\n",
       "      <td>1.0</td>\n",
       "      <td>Eco-Design Products</td>\n",
       "    </tr>\n",
       "    <tr>\n",
       "      <th>2</th>\n",
       "      <td>CG-AM</td>\n",
       "      <td>TR.PercentageGreenProducts</td>\n",
       "      <td>tr.percentagegreenproducts</td>\n",
       "      <td>1.0</td>\n",
       "      <td>Percentage of Green Products</td>\n",
       "    </tr>\n",
       "    <tr>\n",
       "      <th>3</th>\n",
       "      <td>CG-BF</td>\n",
       "      <td>TR.PercentageGreenProducts</td>\n",
       "      <td>tr.percentagegreenproducts</td>\n",
       "      <td>1.0</td>\n",
       "      <td>Percentage of Green Products</td>\n",
       "    </tr>\n",
       "    <tr>\n",
       "      <th>4</th>\n",
       "      <td>CG-EC</td>\n",
       "      <td>TR.AsianMinoritiesEmployeesPercentage</td>\n",
       "      <td>tr.asianminoritiesemployeespercentage</td>\n",
       "      <td>1.0</td>\n",
       "      <td>Asian - Minorities Employees Percentage</td>\n",
       "    </tr>\n",
       "    <tr>\n",
       "      <th>...</th>\n",
       "      <td>...</td>\n",
       "      <td>...</td>\n",
       "      <td>...</td>\n",
       "      <td>...</td>\n",
       "      <td>...</td>\n",
       "    </tr>\n",
       "    <tr>\n",
       "      <th>775</th>\n",
       "      <td>TR-AP</td>\n",
       "      <td>TR.WasteTotal</td>\n",
       "      <td>tr.wastetotal</td>\n",
       "      <td>1.0</td>\n",
       "      <td>Total Waste / Revenue</td>\n",
       "    </tr>\n",
       "    <tr>\n",
       "      <th>776</th>\n",
       "      <td>TR-RA</td>\n",
       "      <td>TR.EmployeeFatalities</td>\n",
       "      <td>tr.employeefatalities</td>\n",
       "      <td>1.0</td>\n",
       "      <td>Employee Fatalities / Total Employees</td>\n",
       "    </tr>\n",
       "    <tr>\n",
       "      <th>777</th>\n",
       "      <td>TR-RA</td>\n",
       "      <td>TR.ContractorFatalities</td>\n",
       "      <td>tr.contractorfatalities</td>\n",
       "      <td>1.0</td>\n",
       "      <td>Contractor Fatalities / Total Employees</td>\n",
       "    </tr>\n",
       "    <tr>\n",
       "      <th>778</th>\n",
       "      <td>TR-RO</td>\n",
       "      <td>TR.EmployeeFatalities</td>\n",
       "      <td>tr.employeefatalities</td>\n",
       "      <td>1.0</td>\n",
       "      <td>Employee Fatalities / Total Employees</td>\n",
       "    </tr>\n",
       "    <tr>\n",
       "      <th>779</th>\n",
       "      <td>TR-RO</td>\n",
       "      <td>TR.ContractorFatalities</td>\n",
       "      <td>tr.contractorfatalities</td>\n",
       "      <td>1.0</td>\n",
       "      <td>Contractor Fatalities / Total Employees</td>\n",
       "    </tr>\n",
       "  </tbody>\n",
       "</table>\n",
       "<p>780 rows × 5 columns</p>\n",
       "</div>"
      ],
      "text/plain": [
       "    industry                                 trcode  \\\n",
       "0      RR-PP              TR.AnalyticRenewEnergyUse   \n",
       "1      RR-ST                   TR.EcoDesignProducts   \n",
       "2      CG-AM             TR.PercentageGreenProducts   \n",
       "3      CG-BF             TR.PercentageGreenProducts   \n",
       "4      CG-EC  TR.AsianMinoritiesEmployeesPercentage   \n",
       "..       ...                                    ...   \n",
       "775    TR-AP                          TR.WasteTotal   \n",
       "776    TR-RA                  TR.EmployeeFatalities   \n",
       "777    TR-RA                TR.ContractorFatalities   \n",
       "778    TR-RO                  TR.EmployeeFatalities   \n",
       "779    TR-RO                TR.ContractorFatalities   \n",
       "\n",
       "                              trcode_lower  index_metric  \\\n",
       "0                tr.analyticrenewenergyuse           1.0   \n",
       "1                     tr.ecodesignproducts           1.0   \n",
       "2               tr.percentagegreenproducts           1.0   \n",
       "3               tr.percentagegreenproducts           1.0   \n",
       "4    tr.asianminoritiesemployeespercentage           1.0   \n",
       "..                                     ...           ...   \n",
       "775                          tr.wastetotal           1.0   \n",
       "776                  tr.employeefatalities           1.0   \n",
       "777                tr.contractorfatalities           1.0   \n",
       "778                  tr.employeefatalities           1.0   \n",
       "779                tr.contractorfatalities           1.0   \n",
       "\n",
       "                                  calcs_name  \n",
       "0            Renewable Energy / Total Energy  \n",
       "1                        Eco-Design Products  \n",
       "2               Percentage of Green Products  \n",
       "3               Percentage of Green Products  \n",
       "4    Asian - Minorities Employees Percentage  \n",
       "..                                       ...  \n",
       "775                    Total Waste / Revenue  \n",
       "776    Employee Fatalities / Total Employees  \n",
       "777  Contractor Fatalities / Total Employees  \n",
       "778    Employee Fatalities / Total Employees  \n",
       "779  Contractor Fatalities / Total Employees  \n",
       "\n",
       "[780 rows x 5 columns]"
      ]
     },
     "execution_count": 24,
     "metadata": {},
     "output_type": "execute_result"
    }
   ],
   "source": [
    "to_merge_trcode = to_merge_trcode.merge(esg_metrics_detail_2c[['trcode_lower','index_metric','calcs_name']].dropna(),on='trcode_lower',how='left')\n",
    "to_merge_trcode = to_merge_trcode.loc[to_merge_trcode['index_metric']==1]\n",
    "to_merge_trcode"
   ]
  },
  {
   "cell_type": "code",
   "execution_count": 25,
   "id": "a3f37821",
   "metadata": {},
   "outputs": [
    {
     "data": {
      "text/plain": [
       "0"
      ]
     },
     "execution_count": 25,
     "metadata": {},
     "output_type": "execute_result"
    }
   ],
   "source": [
    "to_merge_trcode.index_metric.isna().sum()"
   ]
  },
  {
   "cell_type": "markdown",
   "id": "1cfdde6e",
   "metadata": {},
   "source": [
    "#### Step 3: 每个公司对应的calcs_name的valid coverage"
   ]
  },
  {
   "cell_type": "code",
   "execution_count": 26,
   "id": "38390885",
   "metadata": {
    "scrolled": true
   },
   "outputs": [
    {
     "data": {
      "text/html": [
       "<div>\n",
       "<style scoped>\n",
       "    .dataframe tbody tr th:only-of-type {\n",
       "        vertical-align: middle;\n",
       "    }\n",
       "\n",
       "    .dataframe tbody tr th {\n",
       "        vertical-align: top;\n",
       "    }\n",
       "\n",
       "    .dataframe thead th {\n",
       "        text-align: right;\n",
       "    }\n",
       "</style>\n",
       "<table border=\"1\" class=\"dataframe\">\n",
       "  <thead>\n",
       "    <tr style=\"text-align: right;\">\n",
       "      <th></th>\n",
       "      <th>RIC_primary</th>\n",
       "      <th>RIC</th>\n",
       "      <th>Date</th>\n",
       "      <th>FY</th>\n",
       "      <th>Forward PE</th>\n",
       "      <th>Forward PE | 1Y Change</th>\n",
       "      <th>Forward PE | 3Y Change</th>\n",
       "      <th>Forward PE | 5Y Change</th>\n",
       "      <th>Gross Margin</th>\n",
       "      <th>Gross Margin | 1Y Change</th>\n",
       "      <th>...</th>\n",
       "      <th>Debt to Equity</th>\n",
       "      <th>Debt to Equity | 1Y Change</th>\n",
       "      <th>Debt to Equity | 3Y Change</th>\n",
       "      <th>Debt to Equity | 5Y Change</th>\n",
       "      <th>Enterprise Value - Actual</th>\n",
       "      <th>Cash and Equivalents</th>\n",
       "      <th>Date_temp</th>\n",
       "      <th>ret_1yr</th>\n",
       "      <th>ret_3yr</th>\n",
       "      <th>ret_5yr</th>\n",
       "    </tr>\n",
       "  </thead>\n",
       "  <tbody>\n",
       "    <tr>\n",
       "      <th>0</th>\n",
       "      <td>0173.HK</td>\n",
       "      <td>0173.HK</td>\n",
       "      <td>2014-12-31 00:00:00+00:00</td>\n",
       "      <td>FY2014</td>\n",
       "      <td>12.043956</td>\n",
       "      <td>NaN</td>\n",
       "      <td>NaN</td>\n",
       "      <td>NaN</td>\n",
       "      <td>58.85716</td>\n",
       "      <td>NaN</td>\n",
       "      <td>...</td>\n",
       "      <td>70.678355</td>\n",
       "      <td>NaN</td>\n",
       "      <td>NaN</td>\n",
       "      <td>NaN</td>\n",
       "      <td>NaN</td>\n",
       "      <td>NaN</td>\n",
       "      <td>201412.0</td>\n",
       "      <td>-0.099819</td>\n",
       "      <td>1.326353</td>\n",
       "      <td>0.684649</td>\n",
       "    </tr>\n",
       "    <tr>\n",
       "      <th>1</th>\n",
       "      <td>0173.HK</td>\n",
       "      <td>0173.HK</td>\n",
       "      <td>2015-12-31 00:00:00+00:00</td>\n",
       "      <td>FY2015</td>\n",
       "      <td>9.744712</td>\n",
       "      <td>-2.299244</td>\n",
       "      <td>NaN</td>\n",
       "      <td>NaN</td>\n",
       "      <td>64.41361</td>\n",
       "      <td>5.55645</td>\n",
       "      <td>...</td>\n",
       "      <td>57.661005</td>\n",
       "      <td>-0.184177</td>\n",
       "      <td>NaN</td>\n",
       "      <td>NaN</td>\n",
       "      <td>NaN</td>\n",
       "      <td>NaN</td>\n",
       "      <td>201512.0</td>\n",
       "      <td>-0.156006</td>\n",
       "      <td>-0.004584</td>\n",
       "      <td>0.350751</td>\n",
       "    </tr>\n",
       "    <tr>\n",
       "      <th>2</th>\n",
       "      <td>0173.HK</td>\n",
       "      <td>0173.HK</td>\n",
       "      <td>2016-12-31 00:00:00+00:00</td>\n",
       "      <td>FY2016</td>\n",
       "      <td>5.089562</td>\n",
       "      <td>-4.655150</td>\n",
       "      <td>NaN</td>\n",
       "      <td>NaN</td>\n",
       "      <td>47.02159</td>\n",
       "      <td>-17.39202</td>\n",
       "      <td>...</td>\n",
       "      <td>43.425684</td>\n",
       "      <td>-0.246880</td>\n",
       "      <td>NaN</td>\n",
       "      <td>NaN</td>\n",
       "      <td>NaN</td>\n",
       "      <td>NaN</td>\n",
       "      <td>201612.0</td>\n",
       "      <td>0.126923</td>\n",
       "      <td>-0.143824</td>\n",
       "      <td>1.212632</td>\n",
       "    </tr>\n",
       "    <tr>\n",
       "      <th>3</th>\n",
       "      <td>0173.HK</td>\n",
       "      <td>0173.HK</td>\n",
       "      <td>2017-12-31 00:00:00+00:00</td>\n",
       "      <td>FY2017</td>\n",
       "      <td>4.715627</td>\n",
       "      <td>-0.373935</td>\n",
       "      <td>-7.328329</td>\n",
       "      <td>NaN</td>\n",
       "      <td>50.11894</td>\n",
       "      <td>3.09735</td>\n",
       "      <td>...</td>\n",
       "      <td>52.792720</td>\n",
       "      <td>0.215703</td>\n",
       "      <td>-0.253057</td>\n",
       "      <td>NaN</td>\n",
       "      <td>NaN</td>\n",
       "      <td>NaN</td>\n",
       "      <td>201712.0</td>\n",
       "      <td>0.229478</td>\n",
       "      <td>0.169377</td>\n",
       "      <td>0.379177</td>\n",
       "    </tr>\n",
       "    <tr>\n",
       "      <th>4</th>\n",
       "      <td>0173.HK</td>\n",
       "      <td>0173.HK</td>\n",
       "      <td>2018-12-31 00:00:00+00:00</td>\n",
       "      <td>FY2018</td>\n",
       "      <td>3.490762</td>\n",
       "      <td>-1.224865</td>\n",
       "      <td>-6.253950</td>\n",
       "      <td>NaN</td>\n",
       "      <td>44.88942</td>\n",
       "      <td>-5.22952</td>\n",
       "      <td>...</td>\n",
       "      <td>52.498561</td>\n",
       "      <td>-0.005572</td>\n",
       "      <td>-0.089531</td>\n",
       "      <td>NaN</td>\n",
       "      <td>NaN</td>\n",
       "      <td>NaN</td>\n",
       "      <td>201812.0</td>\n",
       "      <td>-0.092228</td>\n",
       "      <td>0.257744</td>\n",
       "      <td>-0.044433</td>\n",
       "    </tr>\n",
       "    <tr>\n",
       "      <th>...</th>\n",
       "      <td>...</td>\n",
       "      <td>...</td>\n",
       "      <td>...</td>\n",
       "      <td>...</td>\n",
       "      <td>...</td>\n",
       "      <td>...</td>\n",
       "      <td>...</td>\n",
       "      <td>...</td>\n",
       "      <td>...</td>\n",
       "      <td>...</td>\n",
       "      <td>...</td>\n",
       "      <td>...</td>\n",
       "      <td>...</td>\n",
       "      <td>...</td>\n",
       "      <td>...</td>\n",
       "      <td>...</td>\n",
       "      <td>...</td>\n",
       "      <td>...</td>\n",
       "      <td>...</td>\n",
       "      <td>...</td>\n",
       "      <td>...</td>\n",
       "    </tr>\n",
       "    <tr>\n",
       "      <th>1399</th>\n",
       "      <td>ZZZ.TO</td>\n",
       "      <td>ZZZ.TO</td>\n",
       "      <td>2018-12-31 00:00:00+00:00</td>\n",
       "      <td>FY2018</td>\n",
       "      <td>11.435934</td>\n",
       "      <td>-10.089261</td>\n",
       "      <td>-4.424231</td>\n",
       "      <td>NaN</td>\n",
       "      <td>30.42568</td>\n",
       "      <td>0.55353</td>\n",
       "      <td>...</td>\n",
       "      <td>56.205884</td>\n",
       "      <td>0.392867</td>\n",
       "      <td>0.050772</td>\n",
       "      <td>NaN</td>\n",
       "      <td>674.306547</td>\n",
       "      <td>NaN</td>\n",
       "      <td>201812.0</td>\n",
       "      <td>-0.387083</td>\n",
       "      <td>0.239195</td>\n",
       "      <td>0.332091</td>\n",
       "    </tr>\n",
       "    <tr>\n",
       "      <th>1400</th>\n",
       "      <td>ZZZ.TO</td>\n",
       "      <td>ZZZ.TO</td>\n",
       "      <td>2019-12-31 00:00:00+00:00</td>\n",
       "      <td>FY2019</td>\n",
       "      <td>13.080906</td>\n",
       "      <td>1.644972</td>\n",
       "      <td>-8.477146</td>\n",
       "      <td>NaN</td>\n",
       "      <td>31.34458</td>\n",
       "      <td>0.91890</td>\n",
       "      <td>...</td>\n",
       "      <td>156.952309</td>\n",
       "      <td>1.792453</td>\n",
       "      <td>2.309013</td>\n",
       "      <td>-0.642911</td>\n",
       "      <td>854.751943</td>\n",
       "      <td>NaN</td>\n",
       "      <td>201912.0</td>\n",
       "      <td>0.051150</td>\n",
       "      <td>-0.237828</td>\n",
       "      <td>0.400228</td>\n",
       "    </tr>\n",
       "    <tr>\n",
       "      <th>1401</th>\n",
       "      <td>ZZZ.TO</td>\n",
       "      <td>ZZZ.TO</td>\n",
       "      <td>2020-12-31 00:00:00+00:00</td>\n",
       "      <td>FY2020</td>\n",
       "      <td>15.330086</td>\n",
       "      <td>2.249180</td>\n",
       "      <td>-6.195109</td>\n",
       "      <td>-0.530079</td>\n",
       "      <td>30.49667</td>\n",
       "      <td>-0.84791</td>\n",
       "      <td>...</td>\n",
       "      <td>106.332313</td>\n",
       "      <td>-0.322518</td>\n",
       "      <td>1.635075</td>\n",
       "      <td>0.987889</td>\n",
       "      <td>1040.614361</td>\n",
       "      <td>NaN</td>\n",
       "      <td>202012.0</td>\n",
       "      <td>0.332886</td>\n",
       "      <td>-0.141265</td>\n",
       "      <td>0.736190</td>\n",
       "    </tr>\n",
       "    <tr>\n",
       "      <th>1402</th>\n",
       "      <td>ZZZ.TO</td>\n",
       "      <td>ZZZ.TO</td>\n",
       "      <td>2021-12-31 00:00:00+00:00</td>\n",
       "      <td>FY2021</td>\n",
       "      <td>15.054997</td>\n",
       "      <td>-0.275089</td>\n",
       "      <td>3.619063</td>\n",
       "      <td>-6.503055</td>\n",
       "      <td>34.45447</td>\n",
       "      <td>3.95780</td>\n",
       "      <td>...</td>\n",
       "      <td>95.041144</td>\n",
       "      <td>-0.106188</td>\n",
       "      <td>0.690947</td>\n",
       "      <td>1.003745</td>\n",
       "      <td>1370.814856</td>\n",
       "      <td>NaN</td>\n",
       "      <td>202112.0</td>\n",
       "      <td>0.453373</td>\n",
       "      <td>1.036267</td>\n",
       "      <td>0.476464</td>\n",
       "    </tr>\n",
       "    <tr>\n",
       "      <th>1403</th>\n",
       "      <td>ZZZ.TO</td>\n",
       "      <td>ZZZ.TO</td>\n",
       "      <td>2022-12-31 00:00:00+00:00</td>\n",
       "      <td>FY2022</td>\n",
       "      <td>NaN</td>\n",
       "      <td>NaN</td>\n",
       "      <td>NaN</td>\n",
       "      <td>NaN</td>\n",
       "      <td>NaN</td>\n",
       "      <td>NaN</td>\n",
       "      <td>...</td>\n",
       "      <td>NaN</td>\n",
       "      <td>NaN</td>\n",
       "      <td>NaN</td>\n",
       "      <td>NaN</td>\n",
       "      <td>NaN</td>\n",
       "      <td>NaN</td>\n",
       "      <td>202212.0</td>\n",
       "      <td>NaN</td>\n",
       "      <td>NaN</td>\n",
       "      <td>NaN</td>\n",
       "    </tr>\n",
       "  </tbody>\n",
       "</table>\n",
       "<p>1404 rows × 1231 columns</p>\n",
       "</div>"
      ],
      "text/plain": [
       "     RIC_primary      RIC                       Date      FY  Forward PE  \\\n",
       "0        0173.HK  0173.HK  2014-12-31 00:00:00+00:00  FY2014   12.043956   \n",
       "1        0173.HK  0173.HK  2015-12-31 00:00:00+00:00  FY2015    9.744712   \n",
       "2        0173.HK  0173.HK  2016-12-31 00:00:00+00:00  FY2016    5.089562   \n",
       "3        0173.HK  0173.HK  2017-12-31 00:00:00+00:00  FY2017    4.715627   \n",
       "4        0173.HK  0173.HK  2018-12-31 00:00:00+00:00  FY2018    3.490762   \n",
       "...          ...      ...                        ...     ...         ...   \n",
       "1399      ZZZ.TO   ZZZ.TO  2018-12-31 00:00:00+00:00  FY2018   11.435934   \n",
       "1400      ZZZ.TO   ZZZ.TO  2019-12-31 00:00:00+00:00  FY2019   13.080906   \n",
       "1401      ZZZ.TO   ZZZ.TO  2020-12-31 00:00:00+00:00  FY2020   15.330086   \n",
       "1402      ZZZ.TO   ZZZ.TO  2021-12-31 00:00:00+00:00  FY2021   15.054997   \n",
       "1403      ZZZ.TO   ZZZ.TO  2022-12-31 00:00:00+00:00  FY2022         NaN   \n",
       "\n",
       "      Forward PE | 1Y Change  Forward PE | 3Y Change  Forward PE | 5Y Change  \\\n",
       "0                        NaN                     NaN                     NaN   \n",
       "1                  -2.299244                     NaN                     NaN   \n",
       "2                  -4.655150                     NaN                     NaN   \n",
       "3                  -0.373935               -7.328329                     NaN   \n",
       "4                  -1.224865               -6.253950                     NaN   \n",
       "...                      ...                     ...                     ...   \n",
       "1399              -10.089261               -4.424231                     NaN   \n",
       "1400                1.644972               -8.477146                     NaN   \n",
       "1401                2.249180               -6.195109               -0.530079   \n",
       "1402               -0.275089                3.619063               -6.503055   \n",
       "1403                     NaN                     NaN                     NaN   \n",
       "\n",
       "      Gross Margin  Gross Margin | 1Y Change  ...  Debt to Equity  \\\n",
       "0         58.85716                       NaN  ...       70.678355   \n",
       "1         64.41361                   5.55645  ...       57.661005   \n",
       "2         47.02159                 -17.39202  ...       43.425684   \n",
       "3         50.11894                   3.09735  ...       52.792720   \n",
       "4         44.88942                  -5.22952  ...       52.498561   \n",
       "...            ...                       ...  ...             ...   \n",
       "1399      30.42568                   0.55353  ...       56.205884   \n",
       "1400      31.34458                   0.91890  ...      156.952309   \n",
       "1401      30.49667                  -0.84791  ...      106.332313   \n",
       "1402      34.45447                   3.95780  ...       95.041144   \n",
       "1403           NaN                       NaN  ...             NaN   \n",
       "\n",
       "      Debt to Equity | 1Y Change  Debt to Equity | 3Y Change  \\\n",
       "0                            NaN                         NaN   \n",
       "1                      -0.184177                         NaN   \n",
       "2                      -0.246880                         NaN   \n",
       "3                       0.215703                   -0.253057   \n",
       "4                      -0.005572                   -0.089531   \n",
       "...                          ...                         ...   \n",
       "1399                    0.392867                    0.050772   \n",
       "1400                    1.792453                    2.309013   \n",
       "1401                   -0.322518                    1.635075   \n",
       "1402                   -0.106188                    0.690947   \n",
       "1403                         NaN                         NaN   \n",
       "\n",
       "      Debt to Equity | 5Y Change  Enterprise Value - Actual  \\\n",
       "0                            NaN                        NaN   \n",
       "1                            NaN                        NaN   \n",
       "2                            NaN                        NaN   \n",
       "3                            NaN                        NaN   \n",
       "4                            NaN                        NaN   \n",
       "...                          ...                        ...   \n",
       "1399                         NaN                 674.306547   \n",
       "1400                   -0.642911                 854.751943   \n",
       "1401                    0.987889                1040.614361   \n",
       "1402                    1.003745                1370.814856   \n",
       "1403                         NaN                        NaN   \n",
       "\n",
       "      Cash and Equivalents  Date_temp   ret_1yr   ret_3yr   ret_5yr  \n",
       "0                      NaN   201412.0 -0.099819  1.326353  0.684649  \n",
       "1                      NaN   201512.0 -0.156006 -0.004584  0.350751  \n",
       "2                      NaN   201612.0  0.126923 -0.143824  1.212632  \n",
       "3                      NaN   201712.0  0.229478  0.169377  0.379177  \n",
       "4                      NaN   201812.0 -0.092228  0.257744 -0.044433  \n",
       "...                    ...        ...       ...       ...       ...  \n",
       "1399                   NaN   201812.0 -0.387083  0.239195  0.332091  \n",
       "1400                   NaN   201912.0  0.051150 -0.237828  0.400228  \n",
       "1401                   NaN   202012.0  0.332886 -0.141265  0.736190  \n",
       "1402                   NaN   202112.0  0.453373  1.036267  0.476464  \n",
       "1403                   NaN   202212.0       NaN       NaN       NaN  \n",
       "\n",
       "[1404 rows x 1231 columns]"
      ]
     },
     "execution_count": 26,
     "metadata": {},
     "output_type": "execute_result"
    }
   ],
   "source": [
    "master_esg_calcs_2c = master_esg_calcs.loc[master_esg_calcs['RIC_primary'].isin(portfolio['RIC_primary'])]\n",
    "master_esg_calcs_2c = master_esg_calcs_2c.reset_index(drop=True)\n",
    "master_esg_calcs_2c"
   ]
  },
  {
   "cell_type": "code",
   "execution_count": 27,
   "id": "84fcb5a8",
   "metadata": {},
   "outputs": [],
   "source": [
    "coverage_2c = []\n",
    "for i in master_esg_calcs_2c['RIC_primary'].unique():\n",
    "# i = '002352.SZ'\n",
    "    industry_tmp = portfolio.loc[portfolio['RIC_primary']==i,'industry'].values[0]\n",
    "    \n",
    "    columns_tmp = to_merge_trcode.loc[to_merge_trcode['industry']==industry_tmp]['calcs_name'].tolist()\n",
    "    \n",
    "    df_tmp = master_esg_calcs_2c.loc[master_esg_calcs_2c['RIC_primary']==i][['RIC_primary','FY']+columns_tmp]\n",
    "    \n",
    "    groupby_tmp = df_tmp.groupby(['RIC_primary','FY']).apply(lambda x: pd.DataFrame([x[columns_tmp].notna().sum().sum(),\n",
    "                                                                        len(columns_tmp),\n",
    "                                                                        x[columns_tmp].notna().sum().sum()/len(columns_tmp)]).T)\n",
    "    \n",
    "    coverage_2c.append(groupby_tmp)"
   ]
  },
  {
   "cell_type": "code",
   "execution_count": 28,
   "id": "c6af28d4",
   "metadata": {},
   "outputs": [],
   "source": [
    "coverage_2c = pd.concat(coverage_2c).reset_index()\n",
    "coverage_2c = coverage_2c.rename(columns={0:'valid_materials_num',\n",
    "                                          1:'total_materials_num',\n",
    "                                          2:'valid_materials_coverage'})\n",
    "coverage_2c = coverage_2c.drop(columns='level_2')"
   ]
  },
  {
   "cell_type": "markdown",
   "id": "de2748d8",
   "metadata": {},
   "source": [
    "### task 2(d)"
   ]
  },
  {
   "cell_type": "markdown",
   "id": "e2a390a5",
   "metadata": {},
   "source": [
    "#### 单独导出下co2 emissions的四列 (Total Co2 emissions, co2 emissions scope 1, 2, 3), 然后分别算下覆盖率"
   ]
  },
  {
   "cell_type": "code",
   "execution_count": 29,
   "id": "c7fae1af",
   "metadata": {},
   "outputs": [],
   "source": [
    "emis_cols = ['Total CO2 Emissions','CO2 Emissions, Scope 1','CO2 Emissions, Scope 2','CO2 Emissions, Scope 3']"
   ]
  },
  {
   "cell_type": "code",
   "execution_count": 30,
   "id": "f56d1415",
   "metadata": {},
   "outputs": [],
   "source": [
    "master_esg_calcs_2d = master_esg_calcs[['RIC_primary','FY'] + emis_cols]\n",
    "\n",
    "master_esg_calcs_2d = master_esg_calcs_2d.loc[master_esg_calcs_2d['RIC_primary'].isin(portfolio['RIC_primary'])]\n",
    "\n",
    "master_esg_calcs_2d = master_esg_calcs_2d.reset_index(drop=True)"
   ]
  },
  {
   "cell_type": "code",
   "execution_count": 31,
   "id": "da1c0438",
   "metadata": {},
   "outputs": [],
   "source": [
    "coverage_2d = master_esg_calcs_2d.groupby(['RIC_primary','FY']).apply(lambda x: x[emis_cols].notna().sum().sum())\n",
    "coverage_2d = coverage_2d.reset_index().rename(columns={0:'emissions_valid_data_points_num'})\n",
    "\n",
    "coverage_2d['emissions_valid_data_points_coverage'] = coverage_2d['emissions_valid_data_points_num']/len(emis_cols)"
   ]
  },
  {
   "cell_type": "code",
   "execution_count": 32,
   "id": "75aff4b8",
   "metadata": {
    "scrolled": true
   },
   "outputs": [],
   "source": [
    "amendment_2d = unmatched_portfolio[['RIC','FY'] + emis_cols].groupby(['RIC','FY']).apply(lambda x: x[emis_cols].notna().sum().sum()).reset_index().rename(columns={0:'emissions_valid_data_points_num'})\n",
    "amendment_2d['emissions_valid_data_points_coverage'] = amendment_2d['emissions_valid_data_points_num']/len(emis_cols)"
   ]
  },
  {
   "cell_type": "code",
   "execution_count": null,
   "id": "6c66fab0",
   "metadata": {},
   "outputs": [],
   "source": []
  },
  {
   "cell_type": "markdown",
   "id": "14696346",
   "metadata": {},
   "source": [
    "### 合并"
   ]
  },
  {
   "cell_type": "code",
   "execution_count": 48,
   "id": "355000e6",
   "metadata": {},
   "outputs": [],
   "source": [
    "final_output = coverage_2b.merge(coverage_2c,on=['RIC_primary','FY'],how='left').merge(coverage_2d,on=['RIC_primary','FY'],how='left')"
   ]
  },
  {
   "cell_type": "code",
   "execution_count": 49,
   "id": "a3badca6",
   "metadata": {},
   "outputs": [],
   "source": [
    "final_amendment = amendment_2b.merge(amendment_2d,on=['RIC','FY'],how='left')"
   ]
  },
  {
   "cell_type": "code",
   "execution_count": null,
   "id": "0d84ea01",
   "metadata": {},
   "outputs": [],
   "source": []
  },
  {
   "cell_type": "code",
   "execution_count": 50,
   "id": "69fc5d7d",
   "metadata": {},
   "outputs": [],
   "source": [
    "final_output = final_output.merge(portfolio[['RIC_primary','CURR','TICKER','DESCRIPTION','CUSIP','ISIN']],\n",
    "                   on='RIC_primary',how='left')"
   ]
  },
  {
   "cell_type": "code",
   "execution_count": 51,
   "id": "5dd4028b",
   "metadata": {},
   "outputs": [],
   "source": [
    "final_amendment = final_amendment.merge(portfolio[['RIC_searched','CURR','TICKER','DESCRIPTION','CUSIP','ISIN']].rename(columns={'RIC_searched':'RIC'}),\n",
    "                   on='RIC',how='left')"
   ]
  },
  {
   "cell_type": "code",
   "execution_count": 52,
   "id": "eb9fe371",
   "metadata": {},
   "outputs": [],
   "source": [
    "final_output['RIC'] = np.nan\n",
    "final_amendment['RIC_primary'] = np.nan\n",
    "final_amendment['valid_materials_num'],final_amendment['total_materials_num'],final_amendment['valid_materials_coverage'] = np.nan,np.nan,np.nan"
   ]
  },
  {
   "cell_type": "code",
   "execution_count": 53,
   "id": "1fe13f50",
   "metadata": {},
   "outputs": [],
   "source": [
    "to_save_cols = ['RIC','RIC_primary', 'FY', 'valid_data_points_num',\n",
    "       'valid_data_points_coverage', 'valid_materials_num',\n",
    "       'total_materials_num', 'valid_materials_coverage',\n",
    "       'emissions_valid_data_points_num',\n",
    "       'emissions_valid_data_points_coverage', 'CURR', 'TICKER', 'DESCRIPTION',\n",
    "       'CUSIP', 'ISIN']\n",
    "final_output = final_output[to_save_cols]\n",
    "final_amendment = final_amendment[to_save_cols]"
   ]
  },
  {
   "cell_type": "code",
   "execution_count": 54,
   "id": "46d0eb47",
   "metadata": {},
   "outputs": [
    {
     "data": {
      "text/plain": [
       "0"
      ]
     },
     "execution_count": 54,
     "metadata": {},
     "output_type": "execute_result"
    }
   ],
   "source": [
    "to_save = pd.concat([final_output,final_amendment]).reset_index(drop=True)\n",
    "to_save.ISIN.isna().sum()"
   ]
  },
  {
   "cell_type": "code",
   "execution_count": 41,
   "id": "5fc15fdd",
   "metadata": {},
   "outputs": [],
   "source": [
    "to_save.to_excel('../data/results_securities_checked/results/Securities_checked_metrics_coverage.xlsx',index=False)"
   ]
  },
  {
   "cell_type": "code",
   "execution_count": null,
   "id": "496d965b",
   "metadata": {},
   "outputs": [],
   "source": []
  },
  {
   "cell_type": "code",
   "execution_count": null,
   "id": "cf256dac",
   "metadata": {},
   "outputs": [],
   "source": []
  },
  {
   "cell_type": "code",
   "execution_count": null,
   "id": "f37a55fc",
   "metadata": {},
   "outputs": [],
   "source": []
  }
 ],
 "metadata": {
  "kernelspec": {
   "display_name": "Python 3 (ipykernel)",
   "language": "python",
   "name": "python3"
  },
  "language_info": {
   "codemirror_mode": {
    "name": "ipython",
    "version": 3
   },
   "file_extension": ".py",
   "mimetype": "text/x-python",
   "name": "python",
   "nbconvert_exporter": "python",
   "pygments_lexer": "ipython3",
   "version": "3.7.11"
  }
 },
 "nbformat": 4,
 "nbformat_minor": 5
}
